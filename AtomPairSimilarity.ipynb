{
  "nbformat": 4,
  "nbformat_minor": 0,
  "metadata": {
    "colab": {
      "provenance": [],
      "authorship_tag": "ABX9TyOYLJrCbGQO5wVTdjWZ9+XW",
      "include_colab_link": true
    },
    "kernelspec": {
      "name": "python3",
      "display_name": "Python 3"
    },
    "language_info": {
      "name": "python"
    }
  },
  "cells": [
    {
      "cell_type": "markdown",
      "metadata": {
        "id": "view-in-github",
        "colab_type": "text"
      },
      "source": [
        "<a href=\"https://colab.research.google.com/github/sladem-tox/Tox_data/blob/main/AtomPairSimilarity.ipynb\" target=\"_parent\"><img src=\"https://colab.research.google.com/assets/colab-badge.svg\" alt=\"Open In Colab\"/></a>"
      ]
    },
    {
      "cell_type": "code",
      "execution_count": 2,
      "metadata": {
        "id": "OolPtdWcYRv3"
      },
      "outputs": [],
      "source": [
        "#Load data from Github\n",
        "import pandas as pd\n",
        "df = pd.read_csv(\"https://github.com/sladem-tox/Tox_data/raw/main/Organophosphate_ActivityValues.csv\")"
      ]
    },
    {
      "cell_type": "markdown",
      "source": [
        "See:\n",
        "https://greglandrum.github.io/rdkit-blog/posts/2023-01-18-fingerprint-generator-tutorial.html\n"
      ],
      "metadata": {
        "id": "pbT_9WSDdpjz"
      }
    },
    {
      "cell_type": "code",
      "source": [
        "!pip install -q datamol\n",
        "import warnings\n",
        "warnings.filterwarnings('ignore', category=DeprecationWarning)"
      ],
      "metadata": {
        "id": "f2jvAOYWYcuW"
      },
      "execution_count": 3,
      "outputs": []
    },
    {
      "cell_type": "code",
      "source": [
        "import rdkit\n",
        "print(rdkit.__version__)\n",
        "%pylab inline"
      ],
      "metadata": {
        "colab": {
          "base_uri": "https://localhost:8080/"
        },
        "id": "PMPCsBupc0xC",
        "outputId": "3f1d07ca-aebd-46f4-d996-892d6b017725"
      },
      "execution_count": 8,
      "outputs": [
        {
          "output_type": "stream",
          "name": "stdout",
          "text": [
            "2024.09.6\n",
            "Populating the interactive namespace from numpy and matplotlib\n"
          ]
        }
      ]
    },
    {
      "cell_type": "code",
      "source": [
        "import pandas as pd\n",
        "from rdkit import Chem\n",
        "from rdkit.Chem.Draw import IPythonConsole\n",
        "from rdkit import DataStructs\n",
        "from rdkit.Chem import rdFingerprintGenerator\n",
        "from rdkit.DataStructs.cDataStructs import TanimotoSimilarity\n",
        "\n",
        "# Create AtomPair fingerprint generator\n",
        "apgen = rdFingerprintGenerator.GetAtomPairGenerator(fpSize=2048)\n",
        "\n",
        "# Convert SMILES to RDKit molecules\n",
        "df['Mol'] = df['SMILES'].apply(Chem.MolFromSmiles)\n",
        "\n",
        "# Generate AtomPair fingerprints\n",
        "df['AP_FP'] = df['Mol'].apply(lambda mol: apgen.GetFingerprint(mol))\n",
        "\n",
        "# Compare all fingerprints: compute pairwise Tanimoto similarity\n",
        "n = len(df)\n",
        "similarity_matrix = pd.DataFrame(index=df.index, columns=df.index)\n",
        "\n",
        "for i in range(n):\n",
        "    fp_i = df['AP_FP'].iloc[i]\n",
        "    for j in range(i, n):\n",
        "        fp_j = df['AP_FP'].iloc[j]\n",
        "        sim = TanimotoSimilarity(fp_i, fp_j)\n",
        "        similarity_matrix.iat[i, j] = sim\n",
        "        similarity_matrix.iat[j, i] = sim  # symmetric\n",
        "\n",
        "# Ensure numeric type\n",
        "similarity_matrix = similarity_matrix.astype(float)\n",
        "\n",
        "# Print result\n",
        "print(similarity_matrix)\n"
      ],
      "metadata": {
        "colab": {
          "base_uri": "https://localhost:8080/"
        },
        "id": "z_GWqlvKYbil",
        "outputId": "fcbd9181-c92f-4422-96b6-5d50ac577f8d"
      },
      "execution_count": 11,
      "outputs": [
        {
          "output_type": "stream",
          "name": "stdout",
          "text": [
            "          0         1         2         3         4         5         6    \\\n",
            "0    1.000000  0.730769  0.623932  0.541985  0.496503  0.473684  0.672566   \n",
            "1    0.730769  1.000000  0.775862  0.664122  0.586207  0.558442  0.694215   \n",
            "2    0.623932  0.775862  1.000000  0.781250  0.678322  0.612903  0.557971   \n",
            "3    0.541985  0.664122  0.781250  1.000000  0.800000  0.712418  0.483660   \n",
            "4    0.496503  0.586207  0.678322  0.800000  1.000000  0.826667  0.422619   \n",
            "..        ...       ...       ...       ...       ...       ...       ...   \n",
            "273  0.017857  0.056497  0.059140  0.111702  0.105000  0.126829  0.048128   \n",
            "274  0.017442  0.038043  0.080645  0.115183  0.108374  0.124402  0.030928   \n",
            "275  0.017647  0.038462  0.064171  0.122340  0.109453  0.125604  0.031250   \n",
            "276  0.016043  0.035176  0.058824  0.106796  0.137441  0.136364  0.028708   \n",
            "277  0.020000  0.042654  0.059908  0.105023  0.118943  0.157895  0.031532   \n",
            "\n",
            "          7         8         9    ...       268       269       270  \\\n",
            "0    0.584615  0.521429  0.258278  ...  0.041475  0.067416  0.038835   \n",
            "1    0.681818  0.557823  0.382550  ...  0.056769  0.078534  0.064815   \n",
            "2    0.731343  0.695035  0.393548  ...  0.067797  0.069307  0.048035   \n",
            "3    0.584416  0.608974  0.407407  ...  0.095436  0.055556  0.058824   \n",
            "4    0.523810  0.547059  0.333333  ...  0.086614  0.071429  0.068826   \n",
            "..        ...       ...       ...  ...       ...       ...       ...   \n",
            "273  0.065000  0.073171  0.208589  ...  0.395210  0.145349  0.194595   \n",
            "274  0.068966  0.092683  0.189349  ...  0.402367  0.122905  0.178010   \n",
            "275  0.053922  0.077670  0.191617  ...  0.424242  0.124294  0.161458   \n",
            "276  0.049774  0.071749  0.167568  ...  0.400000  0.161290  0.200000   \n",
            "277  0.055794  0.072034  0.173469  ...  0.371134  0.121951  0.165138   \n",
            "\n",
            "          271       272       273       274       275       276       277  \n",
            "0    0.037453  0.036585  0.017857  0.017442  0.017647  0.016043  0.020000  \n",
            "1    0.065455  0.039106  0.056497  0.038043  0.038462  0.035176  0.042654  \n",
            "2    0.066901  0.059459  0.059140  0.080645  0.064171  0.058824  0.059908  \n",
            "3    0.093750  0.112299  0.111702  0.115183  0.122340  0.106796  0.105023  \n",
            "4    0.119863  0.111111  0.105000  0.108374  0.109453  0.137441  0.118943  \n",
            "..        ...       ...       ...       ...       ...       ...       ...  \n",
            "273  0.314815  0.806122  1.000000  0.820000  0.800000  0.683761  0.623077  \n",
            "274  0.315068  0.740385  0.820000  1.000000  0.840000  0.717949  0.641221  \n",
            "275  0.342723  0.721154  0.800000  0.840000  1.000000  0.792793  0.704000  \n",
            "276  0.396313  0.633333  0.683761  0.717949  0.792793  1.000000  0.796875  \n",
            "277  0.354701  0.578947  0.623077  0.641221  0.704000  0.796875  1.000000  \n",
            "\n",
            "[278 rows x 278 columns]\n"
          ]
        }
      ]
    }
  ]
}